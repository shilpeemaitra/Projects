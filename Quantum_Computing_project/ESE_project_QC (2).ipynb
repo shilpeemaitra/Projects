{
  "nbformat": 4,
  "nbformat_minor": 0,
  "metadata": {
    "colab": {
      "provenance": []
    },
    "kernelspec": {
      "name": "python3",
      "display_name": "Python 3"
    },
    "language_info": {
      "name": "python"
    },
    "widgets": {
      "application/vnd.jupyter.widget-state+json": {
        "89c7368fe8874c55983bab533af76fd9": {
          "model_module": "@jupyter-widgets/controls",
          "model_name": "VBoxModel",
          "model_module_version": "1.5.0",
          "state": {
            "_dom_classes": [],
            "_model_module": "@jupyter-widgets/controls",
            "_model_module_version": "1.5.0",
            "_model_name": "VBoxModel",
            "_view_count": null,
            "_view_module": "@jupyter-widgets/controls",
            "_view_module_version": "1.5.0",
            "_view_name": "VBoxView",
            "box_style": "",
            "children": [
              "IPY_MODEL_7cc390e8726e4955aa92bf363c064cb9",
              "IPY_MODEL_d8fe6a5ac44d45bf95e53dfb84fdca86"
            ],
            "layout": "IPY_MODEL_354e05bb97cf498181d7a5a0aa8cff17"
          }
        },
        "7cc390e8726e4955aa92bf363c064cb9": {
          "model_module": "@jupyter-widgets/controls",
          "model_name": "FloatSliderModel",
          "model_module_version": "1.5.0",
          "state": {
            "_dom_classes": [],
            "_model_module": "@jupyter-widgets/controls",
            "_model_module_version": "1.5.0",
            "_model_name": "FloatSliderModel",
            "_view_count": null,
            "_view_module": "@jupyter-widgets/controls",
            "_view_module_version": "1.5.0",
            "_view_name": "FloatSliderView",
            "continuous_update": true,
            "description": "Alpha:",
            "description_tooltip": null,
            "disabled": false,
            "layout": "IPY_MODEL_5e6a00f413284bf89279f8166016f121",
            "max": 2,
            "min": -2,
            "orientation": "horizontal",
            "readout": true,
            "readout_format": ".2f",
            "step": 0.1,
            "style": "IPY_MODEL_b6488589ea1b4948a773608cc7900435",
            "value": -0.6
          }
        },
        "d8fe6a5ac44d45bf95e53dfb84fdca86": {
          "model_module": "@jupyter-widgets/controls",
          "model_name": "FloatSliderModel",
          "model_module_version": "1.5.0",
          "state": {
            "_dom_classes": [],
            "_model_module": "@jupyter-widgets/controls",
            "_model_module_version": "1.5.0",
            "_model_name": "FloatSliderModel",
            "_view_count": null,
            "_view_module": "@jupyter-widgets/controls",
            "_view_module_version": "1.5.0",
            "_view_name": "FloatSliderView",
            "continuous_update": true,
            "description": "Beta:",
            "description_tooltip": null,
            "disabled": false,
            "layout": "IPY_MODEL_5ddd0c70d3ce4c9c9ce1ab685f9c1e01",
            "max": 2,
            "min": -2,
            "orientation": "horizontal",
            "readout": true,
            "readout_format": ".2f",
            "step": 0.1,
            "style": "IPY_MODEL_aa46e38a691d4bfdb5325a43f514a1dd",
            "value": -1.3
          }
        },
        "354e05bb97cf498181d7a5a0aa8cff17": {
          "model_module": "@jupyter-widgets/base",
          "model_name": "LayoutModel",
          "model_module_version": "1.2.0",
          "state": {
            "_model_module": "@jupyter-widgets/base",
            "_model_module_version": "1.2.0",
            "_model_name": "LayoutModel",
            "_view_count": null,
            "_view_module": "@jupyter-widgets/base",
            "_view_module_version": "1.2.0",
            "_view_name": "LayoutView",
            "align_content": null,
            "align_items": null,
            "align_self": null,
            "border": null,
            "bottom": null,
            "display": null,
            "flex": null,
            "flex_flow": null,
            "grid_area": null,
            "grid_auto_columns": null,
            "grid_auto_flow": null,
            "grid_auto_rows": null,
            "grid_column": null,
            "grid_gap": null,
            "grid_row": null,
            "grid_template_areas": null,
            "grid_template_columns": null,
            "grid_template_rows": null,
            "height": null,
            "justify_content": null,
            "justify_items": null,
            "left": null,
            "margin": null,
            "max_height": null,
            "max_width": null,
            "min_height": null,
            "min_width": null,
            "object_fit": null,
            "object_position": null,
            "order": null,
            "overflow": null,
            "overflow_x": null,
            "overflow_y": null,
            "padding": null,
            "right": null,
            "top": null,
            "visibility": null,
            "width": null
          }
        },
        "5e6a00f413284bf89279f8166016f121": {
          "model_module": "@jupyter-widgets/base",
          "model_name": "LayoutModel",
          "model_module_version": "1.2.0",
          "state": {
            "_model_module": "@jupyter-widgets/base",
            "_model_module_version": "1.2.0",
            "_model_name": "LayoutModel",
            "_view_count": null,
            "_view_module": "@jupyter-widgets/base",
            "_view_module_version": "1.2.0",
            "_view_name": "LayoutView",
            "align_content": null,
            "align_items": null,
            "align_self": null,
            "border": null,
            "bottom": null,
            "display": null,
            "flex": null,
            "flex_flow": null,
            "grid_area": null,
            "grid_auto_columns": null,
            "grid_auto_flow": null,
            "grid_auto_rows": null,
            "grid_column": null,
            "grid_gap": null,
            "grid_row": null,
            "grid_template_areas": null,
            "grid_template_columns": null,
            "grid_template_rows": null,
            "height": null,
            "justify_content": null,
            "justify_items": null,
            "left": null,
            "margin": null,
            "max_height": null,
            "max_width": null,
            "min_height": null,
            "min_width": null,
            "object_fit": null,
            "object_position": null,
            "order": null,
            "overflow": null,
            "overflow_x": null,
            "overflow_y": null,
            "padding": null,
            "right": null,
            "top": null,
            "visibility": null,
            "width": null
          }
        },
        "b6488589ea1b4948a773608cc7900435": {
          "model_module": "@jupyter-widgets/controls",
          "model_name": "SliderStyleModel",
          "model_module_version": "1.5.0",
          "state": {
            "_model_module": "@jupyter-widgets/controls",
            "_model_module_version": "1.5.0",
            "_model_name": "SliderStyleModel",
            "_view_count": null,
            "_view_module": "@jupyter-widgets/base",
            "_view_module_version": "1.2.0",
            "_view_name": "StyleView",
            "description_width": "",
            "handle_color": null
          }
        },
        "5ddd0c70d3ce4c9c9ce1ab685f9c1e01": {
          "model_module": "@jupyter-widgets/base",
          "model_name": "LayoutModel",
          "model_module_version": "1.2.0",
          "state": {
            "_model_module": "@jupyter-widgets/base",
            "_model_module_version": "1.2.0",
            "_model_name": "LayoutModel",
            "_view_count": null,
            "_view_module": "@jupyter-widgets/base",
            "_view_module_version": "1.2.0",
            "_view_name": "LayoutView",
            "align_content": null,
            "align_items": null,
            "align_self": null,
            "border": null,
            "bottom": null,
            "display": null,
            "flex": null,
            "flex_flow": null,
            "grid_area": null,
            "grid_auto_columns": null,
            "grid_auto_flow": null,
            "grid_auto_rows": null,
            "grid_column": null,
            "grid_gap": null,
            "grid_row": null,
            "grid_template_areas": null,
            "grid_template_columns": null,
            "grid_template_rows": null,
            "height": null,
            "justify_content": null,
            "justify_items": null,
            "left": null,
            "margin": null,
            "max_height": null,
            "max_width": null,
            "min_height": null,
            "min_width": null,
            "object_fit": null,
            "object_position": null,
            "order": null,
            "overflow": null,
            "overflow_x": null,
            "overflow_y": null,
            "padding": null,
            "right": null,
            "top": null,
            "visibility": null,
            "width": null
          }
        },
        "aa46e38a691d4bfdb5325a43f514a1dd": {
          "model_module": "@jupyter-widgets/controls",
          "model_name": "SliderStyleModel",
          "model_module_version": "1.5.0",
          "state": {
            "_model_module": "@jupyter-widgets/controls",
            "_model_module_version": "1.5.0",
            "_model_name": "SliderStyleModel",
            "_view_count": null,
            "_view_module": "@jupyter-widgets/base",
            "_view_module_version": "1.2.0",
            "_view_name": "StyleView",
            "description_width": "",
            "handle_color": null
          }
        },
        "32c2fc63a4c64a3b991f8a8ea3a3396c": {
          "model_module": "@jupyter-widgets/output",
          "model_name": "OutputModel",
          "model_module_version": "1.0.0",
          "state": {
            "_dom_classes": [],
            "_model_module": "@jupyter-widgets/output",
            "_model_module_version": "1.0.0",
            "_model_name": "OutputModel",
            "_view_count": null,
            "_view_module": "@jupyter-widgets/output",
            "_view_module_version": "1.0.0",
            "_view_name": "OutputView",
            "layout": "IPY_MODEL_66381d5c78fe49eb975c5b2d53c09235",
            "msg_id": "",
            "outputs": [
              {
                "output_type": "display_data",
                "data": {
                  "text/plain": "<Figure size 640x480 with 1 Axes>",
                  "image/png": "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\n"
                },
                "metadata": {}
              }
            ]
          }
        },
        "66381d5c78fe49eb975c5b2d53c09235": {
          "model_module": "@jupyter-widgets/base",
          "model_name": "LayoutModel",
          "model_module_version": "1.2.0",
          "state": {
            "_model_module": "@jupyter-widgets/base",
            "_model_module_version": "1.2.0",
            "_model_name": "LayoutModel",
            "_view_count": null,
            "_view_module": "@jupyter-widgets/base",
            "_view_module_version": "1.2.0",
            "_view_name": "LayoutView",
            "align_content": null,
            "align_items": null,
            "align_self": null,
            "border": null,
            "bottom": null,
            "display": null,
            "flex": null,
            "flex_flow": null,
            "grid_area": null,
            "grid_auto_columns": null,
            "grid_auto_flow": null,
            "grid_auto_rows": null,
            "grid_column": null,
            "grid_gap": null,
            "grid_row": null,
            "grid_template_areas": null,
            "grid_template_columns": null,
            "grid_template_rows": null,
            "height": null,
            "justify_content": null,
            "justify_items": null,
            "left": null,
            "margin": null,
            "max_height": null,
            "max_width": null,
            "min_height": null,
            "min_width": null,
            "object_fit": null,
            "object_position": null,
            "order": null,
            "overflow": null,
            "overflow_x": null,
            "overflow_y": null,
            "padding": null,
            "right": null,
            "top": null,
            "visibility": null,
            "width": null
          }
        }
      }
    }
  },
  "cells": [
    {
      "cell_type": "markdown",
      "source": [
        "ESE component 3 - Quantum Computing\n",
        "\n",
        "\n",
        "Shilpee 2348557\n",
        "\n",
        "Simran 2348559"
      ],
      "metadata": {
        "id": "8aVsqkhNNM70"
      }
    },
    {
      "cell_type": "markdown",
      "source": [
        "# **Representation of quantum state and standard basis measurement**\n",
        "\n",
        "\n",
        "---\n",
        "\n"
      ],
      "metadata": {
        "id": "DaD1VnsLp6hr"
      }
    },
    {
      "cell_type": "markdown",
      "source": [
        "**Importing Necessary Libraries**\n",
        "\n",
        "---\n",
        "\n",
        "- **Qiskit**: A popular open-source framework for quantum computing, enabling users to create quantum circuits, run simulations, and visualize results.\n",
        "- **Matplotlib**: A plotting library in Python used for visualizing data.\n",
        "- **NumPy**: A library for numerical operations in Python, essential for handling arrays and matrices.\n",
        "- **IPython.display**: A module to display various types of output, such as mathematical expressions, in Jupyter notebooks."
      ],
      "metadata": {
        "id": "6pptsWhwrG2D"
      }
    },
    {
      "cell_type": "code",
      "source": [
        "!pip install qiskit -q"
      ],
      "metadata": {
        "id": "qVJ3ggpFvlGB"
      },
      "execution_count": null,
      "outputs": []
    },
    {
      "cell_type": "code",
      "source": [
        "!pip install qiskit-aer -q"
      ],
      "metadata": {
        "colab": {
          "base_uri": "https://localhost:8080/"
        },
        "id": "bdiScPVFxQPC",
        "outputId": "b32807e3-5c5b-4a92-f788-6be54eb868b2"
      },
      "execution_count": null,
      "outputs": [
        {
          "output_type": "stream",
          "name": "stdout",
          "text": [
            "\u001b[2K   \u001b[90m━━━━━━━━━━━━━━━━━━━━━━━━━━━━━━━━━━━━━━━━\u001b[0m \u001b[32m12.3/12.3 MB\u001b[0m \u001b[31m52.9 MB/s\u001b[0m eta \u001b[36m0:00:00\u001b[0m\n",
            "\u001b[?25h"
          ]
        }
      ]
    },
    {
      "cell_type": "code",
      "execution_count": 10,
      "metadata": {
        "id": "RM6ybUV7pvQe"
      },
      "outputs": [],
      "source": [
        "import matplotlib.pyplot as plt\n",
        "import numpy as np\n",
        "from IPython.display import display\n",
        "from qiskit.quantum_info import Statevector\n",
        "from qiskit.visualization import plot_histogram\n",
        "from math import sqrt, pi"
      ]
    },
    {
      "cell_type": "markdown",
      "source": [
        "## **1. Represent qubit state vector in matrix notation**\n",
        "\n",
        "---\n",
        "\n",
        "- **Quantum States**: In quantum mechanics, qubits (quantum bits) are the basic units of quantum information. They can be represented in a vector space.\n",
        "- **Standard Basis States**:\n",
        "  - ∣0⟩ is represented by the vector \\begin{pmatrix} 1 \\\\ 0 \\end{pmatrix}\n",
        "  - ∣1⟩ is represented by the vector \\begin{pmatrix} 0 \\\\ 1 \\end{pmatrix}\n",
        "- **Matrix Notation**: The above code constructs the state vectors for |0⟩ and ∣1⟩ and formats them for display in LaTeX."
      ],
      "metadata": {
        "id": "AT2VExDErfA2"
      }
    },
    {
      "cell_type": "code",
      "source": [
        "from IPython.display import display, Math # Import Math from IPython.display\n",
        "\n",
        "ket_0 = np.array([[1], [0]])\n",
        "ket_1 = np.array([[0], [1]])\n",
        "\n",
        "ket_0_matrix = f\"\\\\begin{{pmatrix}} {ket_0[0,0]} \\\\\\\\ {ket_0[1,0]} \\\\end{{pmatrix}}\"\n",
        "ket_1_matrix = f\"\\\\begin{{pmatrix}} {ket_1[0,0]} \\\\\\\\ {ket_1[1,0]} \\\\end{{pmatrix}}\"\n",
        "\n",
        "display(Math(f\"|0⟩ = {ket_0_matrix}\")) # Now Math is defined and can be used\n",
        "display(Math(f\"|1⟩ = {ket_1_matrix}\"))"
      ],
      "metadata": {
        "colab": {
          "base_uri": "https://localhost:8080/",
          "height": 98
        },
        "id": "G-egzuMmHFOa",
        "outputId": "042a0c5f-09d7-40c0-edc2-4455b488cc57"
      },
      "execution_count": 12,
      "outputs": [
        {
          "output_type": "display_data",
          "data": {
            "text/plain": [
              "<IPython.core.display.Math object>"
            ],
            "text/latex": "$\\displaystyle |0⟩ = \\begin{pmatrix} 1 \\\\ 0 \\end{pmatrix}$"
          },
          "metadata": {}
        },
        {
          "output_type": "display_data",
          "data": {
            "text/plain": [
              "<IPython.core.display.Math object>"
            ],
            "text/latex": "$\\displaystyle |1⟩ = \\begin{pmatrix} 0 \\\\ 1 \\end{pmatrix}$"
          },
          "metadata": {}
        }
      ]
    },
    {
      "cell_type": "code",
      "source": [],
      "metadata": {
        "id": "i--g9UdsF8zk"
      },
      "execution_count": null,
      "outputs": []
    },
    {
      "cell_type": "code",
      "source": [
        "u = Statevector([1/sqrt(2), 1/sqrt(2)])\n",
        "v = Statevector([(1 + 2.0j) / 3, -2 / 3])\n",
        "w = Statevector([1/sqrt(10), 3/sqrt(10)])\n",
        "\n",
        "y = Statevector([1/2, 1/2])\n",
        "z = Statevector([2, 2])\n",
        "b = Statevector([1, 2])"
      ],
      "metadata": {
        "id": "0uqY1iDAyBLy"
      },
      "execution_count": 13,
      "outputs": []
    },
    {
      "cell_type": "code",
      "source": [
        "def display_state(state, label):\n",
        "    display(f\"{label}: \",state.draw('latex'))\n",
        "    display(f\"{label} is valid: {state.is_valid()}\")"
      ],
      "metadata": {
        "id": "3sNgi37gzNQX"
      },
      "execution_count": 14,
      "outputs": []
    },
    {
      "cell_type": "markdown",
      "source": [
        "**Valid State Vectors**\n",
        "\n",
        "---"
      ],
      "metadata": {
        "id": "aChbKJGsGy_3"
      }
    },
    {
      "cell_type": "code",
      "source": [
        "display_state(u, \"u\")\n",
        "display_state(v, \"v\")\n",
        "display_state(w, \"w\")"
      ],
      "metadata": {
        "colab": {
          "base_uri": "https://localhost:8080/",
          "height": 195
        },
        "id": "FSdNWcwTzSIW",
        "outputId": "8f210826-2360-4cd3-dc41-6f6308fdb593"
      },
      "execution_count": 15,
      "outputs": [
        {
          "output_type": "display_data",
          "data": {
            "text/plain": [
              "'u: '"
            ],
            "application/vnd.google.colaboratory.intrinsic+json": {
              "type": "string"
            }
          },
          "metadata": {}
        },
        {
          "output_type": "display_data",
          "data": {
            "text/plain": [
              "<IPython.core.display.Latex object>"
            ],
            "text/latex": "$$\\frac{\\sqrt{2}}{2} |0\\rangle+\\frac{\\sqrt{2}}{2} |1\\rangle$$"
          },
          "metadata": {}
        },
        {
          "output_type": "display_data",
          "data": {
            "text/plain": [
              "'u is valid: True'"
            ],
            "application/vnd.google.colaboratory.intrinsic+json": {
              "type": "string"
            }
          },
          "metadata": {}
        },
        {
          "output_type": "display_data",
          "data": {
            "text/plain": [
              "'v: '"
            ],
            "application/vnd.google.colaboratory.intrinsic+json": {
              "type": "string"
            }
          },
          "metadata": {}
        },
        {
          "output_type": "display_data",
          "data": {
            "text/plain": [
              "<IPython.core.display.Latex object>"
            ],
            "text/latex": "$$(\\frac{1}{3} + \\frac{2 i}{3}) |0\\rangle- \\frac{2}{3} |1\\rangle$$"
          },
          "metadata": {}
        },
        {
          "output_type": "display_data",
          "data": {
            "text/plain": [
              "'v is valid: True'"
            ],
            "application/vnd.google.colaboratory.intrinsic+json": {
              "type": "string"
            }
          },
          "metadata": {}
        },
        {
          "output_type": "display_data",
          "data": {
            "text/plain": [
              "'w: '"
            ],
            "application/vnd.google.colaboratory.intrinsic+json": {
              "type": "string"
            }
          },
          "metadata": {}
        },
        {
          "output_type": "display_data",
          "data": {
            "text/plain": [
              "<IPython.core.display.Latex object>"
            ],
            "text/latex": "$$\\frac{\\sqrt{10}}{10} |0\\rangle+\\frac{3 \\sqrt{10}}{10} |1\\rangle$$"
          },
          "metadata": {}
        },
        {
          "output_type": "display_data",
          "data": {
            "text/plain": [
              "'w is valid: True'"
            ],
            "application/vnd.google.colaboratory.intrinsic+json": {
              "type": "string"
            }
          },
          "metadata": {}
        }
      ]
    },
    {
      "cell_type": "markdown",
      "source": [
        "**Invalid State Vectors**\n",
        "\n",
        "---"
      ],
      "metadata": {
        "id": "vg4KwYadE046"
      }
    },
    {
      "cell_type": "code",
      "source": [
        "display_state(y, \"y\")\n",
        "display_state(z, \"z\")\n",
        "display_state(b, \"b\")"
      ],
      "metadata": {
        "colab": {
          "base_uri": "https://localhost:8080/",
          "height": 188
        },
        "id": "tzSJoqAozTwe",
        "outputId": "aa1bf8ef-2e66-4a00-fd4d-5ce49bccf7a3"
      },
      "execution_count": 16,
      "outputs": [
        {
          "output_type": "display_data",
          "data": {
            "text/plain": [
              "'y: '"
            ],
            "application/vnd.google.colaboratory.intrinsic+json": {
              "type": "string"
            }
          },
          "metadata": {}
        },
        {
          "output_type": "display_data",
          "data": {
            "text/plain": [
              "<IPython.core.display.Latex object>"
            ],
            "text/latex": "$$\\frac{1}{2} |0\\rangle+\\frac{1}{2} |1\\rangle$$"
          },
          "metadata": {}
        },
        {
          "output_type": "display_data",
          "data": {
            "text/plain": [
              "'y is valid: False'"
            ],
            "application/vnd.google.colaboratory.intrinsic+json": {
              "type": "string"
            }
          },
          "metadata": {}
        },
        {
          "output_type": "display_data",
          "data": {
            "text/plain": [
              "'z: '"
            ],
            "application/vnd.google.colaboratory.intrinsic+json": {
              "type": "string"
            }
          },
          "metadata": {}
        },
        {
          "output_type": "display_data",
          "data": {
            "text/plain": [
              "<IPython.core.display.Latex object>"
            ],
            "text/latex": "$$2 |0\\rangle+2 |1\\rangle$$"
          },
          "metadata": {}
        },
        {
          "output_type": "display_data",
          "data": {
            "text/plain": [
              "'z is valid: False'"
            ],
            "application/vnd.google.colaboratory.intrinsic+json": {
              "type": "string"
            }
          },
          "metadata": {}
        },
        {
          "output_type": "display_data",
          "data": {
            "text/plain": [
              "'b: '"
            ],
            "application/vnd.google.colaboratory.intrinsic+json": {
              "type": "string"
            }
          },
          "metadata": {}
        },
        {
          "output_type": "display_data",
          "data": {
            "text/plain": [
              "<IPython.core.display.Latex object>"
            ],
            "text/latex": "$$ |0\\rangle+2 |1\\rangle$$"
          },
          "metadata": {}
        },
        {
          "output_type": "display_data",
          "data": {
            "text/plain": [
              "'b is valid: False'"
            ],
            "application/vnd.google.colaboratory.intrinsic+json": {
              "type": "string"
            }
          },
          "metadata": {}
        }
      ]
    },
    {
      "cell_type": "markdown",
      "source": [
        "## **Simulate measurements and visualise the result**\n",
        "\n"
      ],
      "metadata": {
        "id": "VmtJ92hs6iqg"
      }
    },
    {
      "cell_type": "code",
      "source": [
        "def simulate_measurement(state_vector):\n",
        "  display(\"State Vector: \",state_vector.draw('latex'))\n",
        "  print(f\"Measurement: \",state_vector.measure())"
      ],
      "metadata": {
        "id": "MFcoKg-G6Rgg"
      },
      "execution_count": 17,
      "outputs": []
    },
    {
      "cell_type": "markdown",
      "source": [
        "## **Measurement Probabilities for State Vector \\( u \\)**\n",
        "\n",
        "\n",
        "\n",
        "These probabilities indicate that upon measurement, there is an equal chance of collapsing the state to either $ |0\\rangle $ or $ |1\\rangle $.\n",
        "\n"
      ],
      "metadata": {
        "id": "x0CWXfrgJCDn"
      }
    },
    {
      "cell_type": "code",
      "source": [
        "simulate_measurement(u)"
      ],
      "metadata": {
        "colab": {
          "base_uri": "https://localhost:8080/",
          "height": 93
        },
        "id": "7Wu31jbC9_hy",
        "outputId": "88dff934-e793-4fa9-9086-981d4443506e"
      },
      "execution_count": 18,
      "outputs": [
        {
          "output_type": "display_data",
          "data": {
            "text/plain": [
              "'State Vector: '"
            ],
            "application/vnd.google.colaboratory.intrinsic+json": {
              "type": "string"
            }
          },
          "metadata": {}
        },
        {
          "output_type": "display_data",
          "data": {
            "text/plain": [
              "<IPython.core.display.Latex object>"
            ],
            "text/latex": "$$\\frac{\\sqrt{2}}{2} |0\\rangle+\\frac{\\sqrt{2}}{2} |1\\rangle$$"
          },
          "metadata": {}
        },
        {
          "output_type": "stream",
          "name": "stdout",
          "text": [
            "Measurement:  ('0', Statevector([1.+0.j, 0.+0.j],\n",
            "            dims=(2,)))\n"
          ]
        }
      ]
    },
    {
      "cell_type": "markdown",
      "source": [
        "*When a measurement is made, the output is either 0 or 1. There is a probability that the measurement will be 0 and a probability that the measurement will be 1.*"
      ],
      "metadata": {
        "id": "ThGn3zr3IEKv"
      }
    },
    {
      "cell_type": "code",
      "source": [
        "simulate_measurement(v)"
      ],
      "metadata": {
        "colab": {
          "base_uri": "https://localhost:8080/",
          "height": 91
        },
        "id": "TsjWQ4JG-QlX",
        "outputId": "1a2b8f6f-d30b-49df-9e1b-8592db5a0866"
      },
      "execution_count": 19,
      "outputs": [
        {
          "output_type": "display_data",
          "data": {
            "text/plain": [
              "'State Vector: '"
            ],
            "application/vnd.google.colaboratory.intrinsic+json": {
              "type": "string"
            }
          },
          "metadata": {}
        },
        {
          "output_type": "display_data",
          "data": {
            "text/plain": [
              "<IPython.core.display.Latex object>"
            ],
            "text/latex": "$$(\\frac{1}{3} + \\frac{2 i}{3}) |0\\rangle- \\frac{2}{3} |1\\rangle$$"
          },
          "metadata": {}
        },
        {
          "output_type": "stream",
          "name": "stdout",
          "text": [
            "Measurement:  ('0', Statevector([0.4472136+0.89442719j, 0.       +0.j        ],\n",
            "            dims=(2,)))\n"
          ]
        }
      ]
    },
    {
      "cell_type": "code",
      "source": [
        "simulate_measurement(w)"
      ],
      "metadata": {
        "colab": {
          "base_uri": "https://localhost:8080/",
          "height": 93
        },
        "id": "rDmCOZjd7gxE",
        "outputId": "58d74c01-a04e-40bc-ff29-4cfd16fb7534"
      },
      "execution_count": 20,
      "outputs": [
        {
          "output_type": "display_data",
          "data": {
            "text/plain": [
              "'State Vector: '"
            ],
            "application/vnd.google.colaboratory.intrinsic+json": {
              "type": "string"
            }
          },
          "metadata": {}
        },
        {
          "output_type": "display_data",
          "data": {
            "text/plain": [
              "<IPython.core.display.Latex object>"
            ],
            "text/latex": "$$\\frac{\\sqrt{10}}{10} |0\\rangle+\\frac{3 \\sqrt{10}}{10} |1\\rangle$$"
          },
          "metadata": {}
        },
        {
          "output_type": "stream",
          "name": "stdout",
          "text": [
            "Measurement:  ('1', Statevector([0.+0.j, 1.+0.j],\n",
            "            dims=(2,)))\n"
          ]
        }
      ]
    },
    {
      "cell_type": "markdown",
      "source": [
        "\n",
        "###  **Quantum Superposition**\n",
        "- **Superposition States**: If the state vector is in a superposition (like \\(|+\\rangle\\)), the probabilities of measuring \\(|0\\rangle\\) or \\(|1\\rangle\\) are equal (if perfectly balanced). However, the actual outcomes will still vary because of the probabilistic nature of measurements.\n",
        "\n",
        "###  **Measurement Basis**\n",
        "- **Changing Basis**: If you were to change the basis of measurement (e.g., measure in the \\(X\\) or \\(Y\\) basis instead of the \\(Z\\) basis), the probabilities would change based on the representation of the state vector in that new basis.\n"
      ],
      "metadata": {
        "id": "GL0bmBQZJbDB"
      }
    },
    {
      "cell_type": "code",
      "source": [
        "# Plot results for each state vector\n",
        "statistics = u.sample_counts(1000)\n",
        "display(\"State Vector: \",u.draw('latex'))\n",
        "display(f\"{'Measurement Results for State u'}: \",statistics)\n",
        "plot_histogram(statistics, title='Measurement Results for State u')"
      ],
      "metadata": {
        "colab": {
          "base_uri": "https://localhost:8080/",
          "height": 528
        },
        "id": "I6L8471C827f",
        "outputId": "e560171e-4452-42ba-ba8d-9324e0b77e7e"
      },
      "execution_count": 21,
      "outputs": [
        {
          "output_type": "display_data",
          "data": {
            "text/plain": [
              "'State Vector: '"
            ],
            "application/vnd.google.colaboratory.intrinsic+json": {
              "type": "string"
            }
          },
          "metadata": {}
        },
        {
          "output_type": "display_data",
          "data": {
            "text/plain": [
              "<IPython.core.display.Latex object>"
            ],
            "text/latex": "$$\\frac{\\sqrt{2}}{2} |0\\rangle+\\frac{\\sqrt{2}}{2} |1\\rangle$$"
          },
          "metadata": {}
        },
        {
          "output_type": "display_data",
          "data": {
            "text/plain": [
              "'Measurement Results for State u: '"
            ],
            "application/vnd.google.colaboratory.intrinsic+json": {
              "type": "string"
            }
          },
          "metadata": {}
        },
        {
          "output_type": "display_data",
          "data": {
            "text/plain": [
              "{'0': 474, '1': 526}"
            ]
          },
          "metadata": {}
        },
        {
          "output_type": "execute_result",
          "data": {
            "text/plain": [
              "<Figure size 640x480 with 1 Axes>"
            ],
            "image/png": "[encoded data removed]"
          },
          "metadata": {},
          "execution_count": 21
        }
      ]
    },
    {
      "cell_type": "code",
      "source": [
        "# Plot results for each state vector\n",
        "statistics = v.sample_counts(1000)\n",
        "display(\"State Vector: \",v.draw('latex'))\n",
        "display(f\"{'Measurement Results for State v'}: \",statistics)\n",
        "plot_histogram(statistics, title='Measurement Results for State v')"
      ],
      "metadata": {
        "colab": {
          "base_uri": "https://localhost:8080/",
          "height": 526
        },
        "id": "qdH8TFnQ89zK",
        "outputId": "a76097d7-9b1e-4004-bc62-07b80e09866a"
      },
      "execution_count": 22,
      "outputs": [
        {
          "output_type": "display_data",
          "data": {
            "text/plain": [
              "'State Vector: '"
            ],
            "application/vnd.google.colaboratory.intrinsic+json": {
              "type": "string"
            }
          },
          "metadata": {}
        },
        {
          "output_type": "display_data",
          "data": {
            "text/plain": [
              "<IPython.core.display.Latex object>"
            ],
            "text/latex": "$$(\\frac{1}{3} + \\frac{2 i}{3}) |0\\rangle- \\frac{2}{3} |1\\rangle$$"
          },
          "metadata": {}
        },
        {
          "output_type": "display_data",
          "data": {
            "text/plain": [
              "'Measurement Results for State v: '"
            ],
            "application/vnd.google.colaboratory.intrinsic+json": {
              "type": "string"
            }
          },
          "metadata": {}
        },
        {
          "output_type": "display_data",
          "data": {
            "text/plain": [
              "{'0': 533, '1': 467}"
            ]
          },
          "metadata": {}
        },
        {
          "output_type": "execute_result",
          "data": {
            "text/plain": [
              "<Figure size 640x480 with 1 Axes>"
            ],
            "image/png": "[encoded data removed]"
          },
          "metadata": {},
          "execution_count": 22
        }
      ]
    },
    {
      "cell_type": "code",
      "source": [
        "# Plot results for each state vector\n",
        "statistics = w.sample_counts(1000)\n",
        "display(\"State Vector: \",w.draw('latex'))\n",
        "display(f\"{'Measurement Results for State w'}: \",statistics)\n",
        "plot_histogram(statistics, title='Measurement Results for State w')"
      ],
      "metadata": {
        "colab": {
          "base_uri": "https://localhost:8080/",
          "height": 528
        },
        "id": "ho2Hqni7An0C",
        "outputId": "2ff568ff-544c-4394-e0ec-4e454b1ee24c"
      },
      "execution_count": 23,
      "outputs": [
        {
          "output_type": "display_data",
          "data": {
            "text/plain": [
              "'State Vector: '"
            ],
            "application/vnd.google.colaboratory.intrinsic+json": {
              "type": "string"
            }
          },
          "metadata": {}
        },
        {
          "output_type": "display_data",
          "data": {
            "text/plain": [
              "<IPython.core.display.Latex object>"
            ],
            "text/latex": "$$\\frac{\\sqrt{10}}{10} |0\\rangle+\\frac{3 \\sqrt{10}}{10} |1\\rangle$$"
          },
          "metadata": {}
        },
        {
          "output_type": "display_data",
          "data": {
            "text/plain": [
              "'Measurement Results for State w: '"
            ],
            "application/vnd.google.colaboratory.intrinsic+json": {
              "type": "string"
            }
          },
          "metadata": {}
        },
        {
          "output_type": "display_data",
          "data": {
            "text/plain": [
              "{'0': 94, '1': 906}"
            ]
          },
          "metadata": {}
        },
        {
          "output_type": "execute_result",
          "data": {
            "text/plain": [
              "<Figure size 640x480 with 1 Axes>"
            ],
            "image/png": "[encoded data removed]"
          },
          "metadata": {},
          "execution_count": 23
        }
      ]
    },
    {
      "cell_type": "markdown",
      "source": [
        "### **Something New and Exciting**"
      ],
      "metadata": {
        "id": "RhTw7cykM4Pp"
      }
    },
    {
      "cell_type": "markdown",
      "source": [
        "# Dynamic Probability Visualization\n",
        "\n",
        "This section demonstrates an interactive visualization that allows users to dynamically adjust the amplitudes of a quantum state vector and observe how these adjustments affect the measurement probabilities and resulting histograms in real time.\n",
        "\n",
        "I used `ipywidgets` to create sliders for the amplitudes $  \\alpha $ and $ \\beta $, which represent the coefficients of the quantum state $ | \\psi \\rangle = \\alpha |0\\rangle + \\beta |1\\rangle $. The state vector is normalized based on the user inputs, and the corresponding measurement probabilities are calculated and displayed.\n"
      ],
      "metadata": {
        "id": "ZXgvefh-NJVO"
      }
    },
    {
      "cell_type": "code",
      "source": [
        "import ipywidgets as widgets\n",
        "from IPython.display import display\n",
        "\n",
        "# def update_state_vector(alpha, beta):\n",
        "#     norm = sqrt(abs(alpha)**2 + abs(beta)**2)\n",
        "#     alpha_normalized = alpha / norm\n",
        "#     beta_normalized = beta / norm\n",
        "#     state_vector = Statevector([alpha_normalized, beta_normalized])\n",
        "#     probabilities = [abs(amplitude)**2 for amplitude in state_vector]\n",
        "#     plt.bar(['|0⟩', '|1⟩'], probabilities)\n",
        "#     plt.title(f'Probability Distribution for {state_vector.draw(\"latex\")}')\n",
        "#     plt.xlabel('States')\n",
        "#     plt.ylabel('Probability')\n",
        "#     plt.ylim(0, 1)\n",
        "#     plt.show()\n",
        "#     statistics = state_vector.sample_counts(1000)\n",
        "#     plot_histogram(statistics, title='Measurement Results')\n",
        "# alpha_slider = widgets.FloatSlider(value=1, min=-2, max=2, step=0.1, description='Alpha:')\n",
        "# beta_slider = widgets.FloatSlider(value=1, min=-2, max=2, step=0.1, description='Beta:')\n",
        "# ui = widgets.VBox([alpha_slider, beta_slider])\n",
        "# out = widgets.interactive_output(update_state_vector, {'alpha': alpha_slider, 'beta': beta_slider})\n",
        "# display(ui, out)"
      ],
      "metadata": {
        "colab": {
          "base_uri": "https://localhost:8080/",
          "height": 536,
          "referenced_widgets": [
            "89c7368fe8874c55983bab533af76fd9",
            "7cc390e8726e4955aa92bf363c064cb9",
            "d8fe6a5ac44d45bf95e53dfb84fdca86",
            "354e05bb97cf498181d7a5a0aa8cff17",
            "5e6a00f413284bf89279f8166016f121",
            "b6488589ea1b4948a773608cc7900435",
            "5ddd0c70d3ce4c9c9ce1ab685f9c1e01",
            "aa46e38a691d4bfdb5325a43f514a1dd",
            "32c2fc63a4c64a3b991f8a8ea3a3396c",
            "66381d5c78fe49eb975c5b2d53c09235"
          ]
        },
        "id": "28tpZawTLOtj",
        "outputId": "67f642bd-4ca9-4f5b-8d30-355f37f3f506"
      },
      "execution_count": 24,
      "outputs": [
        {
          "output_type": "display_data",
          "data": {
            "text/plain": [
              "VBox(children=(FloatSlider(value=1.0, description='Alpha:', max=2.0, min=-2.0), FloatSlider(value=1.0, descrip…"
            ],
            "application/vnd.jupyter.widget-view+json": {
              "version_major": 2,
              "version_minor": 0,
              "model_id": "89c7368fe8874c55983bab533af76fd9"
            }
          },
          "metadata": {}
        },
        {
          "output_type": "display_data",
          "data": {
            "text/plain": [
              "Output()"
            ],
            "application/vnd.jupyter.widget-view+json": {
              "version_major": 2,
              "version_minor": 0,
              "model_id": "32c2fc63a4c64a3b991f8a8ea3a3396c"
            }
          },
          "metadata": {}
        }
      ]
    },
    {
      "cell_type": "markdown",
      "source": [
        "### **Entanglement Visualization**\n",
        "\n",
        "This section demonstrates the implementation of Bell states in quantum mechanics and simulates the measurement outcomes for each state. The four Bell states are defined, and their measurement probabilities are calculated and visualized as histograms.\n",
        "\n"
      ],
      "metadata": {
        "id": "knku6M9OO5EQ"
      }
    },
    {
      "cell_type": "markdown",
      "source": [
        "To calculate the measurement probabilities for the Bell state $|\\Phi^+\\rangle$, we start with its mathematical representation:\n",
        "$$\n",
        "|\\Phi^+\\rangle = \\frac{1}{\\sqrt{2}} (|00\\rangle + |11\\rangle)\n",
        "$$\n",
        "\n",
        "### Step-by-Step Calculation\n",
        "\n",
        "1. **State Vector Representation**: The Bell state \\(|\\Phi^+\\rangle\\) can be represented as a state vector:\n",
        "   $\n",
        "   |\\Phi^+\\rangle$ = \\begin{pmatrix}\n",
        "   \\frac{1}{\\sqrt{2}} \\\\\n",
        "   0 \\\\\n",
        "   0 \\\\\n",
        "   \\frac{1}{\\sqrt{2}}\n",
        "   \\end{pmatrix}\n",
        "   \n",
        "   Here, the vector elements correspond to the coefficients for the basis states $|00\\rangle, |01\\rangle, |10\\rangle, and |11\\rangle$, respectively.\n",
        "\n",
        "2. **Calculating Probabilities**:\n",
        "   - The probability of measuring the state \\(|00\\rangle\\) is given by the square of the absolute value of its coefficient in the state vector:\n",
        "   $$\n",
        "     P(00) = |\\langle 00 | \\Phi^+ \\rangle|^2 = \\left|\\frac{1}{\\sqrt{2}}\\right|^2 = \\frac{1}{2}  \n",
        "     $$\n",
        "   - The probability of measuring the state \\(|11\\rangle\\) is similarly calculated:\n",
        "   $\n",
        "   P(11) = |\\langle 11 | \\Phi^+ \\rangle|^2 = \\left|\\frac{1}{\\sqrt{2}}\\right|^2 = \\frac{1}{2} $\n",
        "\n",
        "3. **Probabilities for Other States**:\n",
        "   - The probabilities for the states $ |01\\rangle $ and $ |10\\rangle $ are:\n",
        "   $ [\\ P(01) = |\\langle 01 | \\Phi^+ \\rangle|^2 = |0|^2 = 0 /],\n",
        "  [\\ P(10) = |\\langle 10 | \\Phi^+ \\rangle|^2 = |0|^2 = 0 $ /]\n",
        "\n",
        "### Summary of Results\n",
        "\n",
        "Thus, for the Bell state $|\\Phi^+\\rangle$:\n",
        "- $P(00) = 0.5$\n",
        "- $P(01) = 0$\n",
        "- $P(10) = 0$\n",
        "- $P(11) = 0.5$\n",
        "\n",
        "This means that when we measure the state $|\\Phi^+\\rangle$, we have a 50% chance of finding it in either $|00\\rangle$ or $|11\\rangle$, and a 0% chance of finding it in the states $|01\\rangle$ or $|10\\rangle$. This behavior is characteristic of entangled states, demonstrating that measurement outcomes are correlated between the two qubits involved."
      ],
      "metadata": {
        "id": "SaPEXIgfPsNK"
      }
    },
    {
      "cell_type": "code",
      "source": [
        "bell_states = {\n",
        "    '|Φ⁺⟩': Statevector([1/np.sqrt(2), 0, 0, 1/np.sqrt(2)]),\n",
        "    '|Φ⁻⟩': Statevector([1/np.sqrt(2), 0, 1/np.sqrt(2), 0]),\n",
        "    '|Ψ⁺⟩': Statevector([0, 1/np.sqrt(2), 1/np.sqrt(2), 0]),\n",
        "    '|Ψ⁻⟩': Statevector([0, 1/np.sqrt(2), -1/np.sqrt(2), 0])\n",
        "}\n",
        "\n",
        "counts_list = []\n",
        "\n",
        "for name, state_vector in bell_states.items():\n",
        "  display(f\"{name}: \",state_vector.draw('latex'))\n",
        "  probabilities = np.abs(state_vector.data)**2\n",
        "  counts = {\n",
        "        '00': probabilities[0] * 1000,\n",
        "        '01': probabilities[1] * 1000,\n",
        "        '10': probabilities[2] * 1000,\n",
        "        '11': probabilities[3] * 1000\n",
        "    }\n",
        "  counts_list.append((name, counts))\n",
        "\n",
        "for name, counts in counts_list:\n",
        "    plt.figure()\n",
        "    plt.bar(counts.keys(), counts.values(), color=['blue', 'orange', 'green', 'red'])\n",
        "    plt.title(f'Measurement Results for Bell State {name}')\n",
        "    plt.xlabel('States')\n",
        "    plt.ylabel('Counts (out of 1000)')\n",
        "    plt.ylim(0, 1000)\n",
        "    plt.show()"
      ],
      "metadata": {
        "colab": {
          "base_uri": "https://localhost:8080/",
          "height": 1000
        },
        "id": "lsBQuoOELlBk",
        "outputId": "69faecef-2a04-48e4-e975-16088563d1f9"
      },
      "execution_count": 25,
      "outputs": [
        {
          "output_type": "display_data",
          "data": {
            "text/plain": [
              "'|Φ⁺⟩: '"
            ],
            "application/vnd.google.colaboratory.intrinsic+json": {
              "type": "string"
            }
          },
          "metadata": {}
        },
        {
          "output_type": "display_data",
          "data": {
            "text/plain": [
              "<IPython.core.display.Latex object>"
            ],
            "text/latex": "$$\\frac{\\sqrt{2}}{2} |00\\rangle+\\frac{\\sqrt{2}}{2} |11\\rangle$$"
          },
          "metadata": {}
        },
        {
          "output_type": "display_data",
          "data": {
            "text/plain": [
              "'|Φ⁻⟩: '"
            ],
            "application/vnd.google.colaboratory.intrinsic+json": {
              "type": "string"
            }
          },
          "metadata": {}
        },
        {
          "output_type": "display_data",
          "data": {
            "text/plain": [
              "<IPython.core.display.Latex object>"
            ],
            "text/latex": "$$\\frac{\\sqrt{2}}{2} |00\\rangle+\\frac{\\sqrt{2}}{2} |10\\rangle$$"
          },
          "metadata": {}
        },
        {
          "output_type": "display_data",
          "data": {
            "text/plain": [
              "'|Ψ⁺⟩: '"
            ],
            "application/vnd.google.colaboratory.intrinsic+json": {
              "type": "string"
            }
          },
          "metadata": {}
        },
        {
          "output_type": "display_data",
          "data": {
            "text/plain": [
              "<IPython.core.display.Latex object>"
            ],
            "text/latex": "$$\\frac{\\sqrt{2}}{2} |01\\rangle+\\frac{\\sqrt{2}}{2} |10\\rangle$$"
          },
          "metadata": {}
        },
        {
          "output_type": "display_data",
          "data": {
            "text/plain": [
              "'|Ψ⁻⟩: '"
            ],
            "application/vnd.google.colaboratory.intrinsic+json": {
              "type": "string"
            }
          },
          "metadata": {}
        },
        {
          "output_type": "display_data",
          "data": {
            "text/plain": [
              "<IPython.core.display.Latex object>"
            ],
            "text/latex": "$$\\frac{\\sqrt{2}}{2} |01\\rangle- \\frac{\\sqrt{2}}{2} |10\\rangle$$"
          },
          "metadata": {}
        },
        {
          "output_type": "display_data",
          "data": {
            "text/plain": [
              "<Figure size 640x480 with 1 Axes>"
            ],
            "image/png": "[encoded data removed]"
          },
          "metadata": {}
        },
        {
          "output_type": "display_data",
          "data": {
            "text/plain": [
              "<Figure size 640x480 with 1 Axes>"
            ],
            "image/png": "[encoded data removed]"
          },
          "metadata": {}
        },
        {
          "output_type": "display_data",
          "data": {
            "text/plain": [
              "<Figure size 640x480 with 1 Axes>"
            ],
            "image/png": "[encoded data removed]"
          },
          "metadata": {}
        },
        {
          "output_type": "display_data",
          "data": {
            "text/plain": [
              "<Figure size 640x480 with 1 Axes>"
            ],
            "image/png": "[encoded data removed]"
          },
          "metadata": {}
        }
      ]
    },
    {
      "cell_type": "markdown",
      "source": [
        "## **Inference**\n",
        "\n",
        "---\n",
        "\n",
        "Through the exploration of quantum state vectors and their measurements, we have gained a deeper understanding of several fundamental principles in quantum mechanics:\n",
        "\n",
        "1. **State Representation**: We defined various quantum state vectors, both valid and invalid, using the Qiskit library. This process highlighted the importance of ensuring that state vectors are normalized, which is a prerequisite for their validity. The normalization condition $ \\langle \\psi |  \\psi \\rangle = 1 $ confirms that the total probability of measuring all possible outcomes must equal one.\n",
        "\n",
        "2. **Measurement Simulation**: By simulating measurements of state vectors, we observed how quantum states collapse into one of the basis states upon measurement. This simulation emphasized the inherent uncertainty in quantum mechanics, as the outcome of a measurement cannot be predicted with certainty but only characterized by probabilities derived from the state's amplitudes.\n",
        "\n",
        "3. **Probability Calculation**: We calculated the probabilities of measuring specific states using the square of the absolute values of the amplitudes. For the valid state vector \\( u \\), the equal probabilities $  P(|0\\rangle) = \\frac{1}{2}$  and $ P(|1\\rangle) = \\frac{1}{2}$  demonstrated a balanced superposition. This behavior is indicative of many quantum systems in an unmeasured state, where they can exist in multiple states simultaneously.\n",
        "\n",
        "4. **Statistical Analysis**: Utilizing the `sample_counts` method, we simulated 1000 measurements, allowing us to visualize the results through histograms. This statistical approach provided insights into the distribution of measurement outcomes, reinforcing the probabilistic nature of quantum mechanics.\n",
        "\n",
        "5. **Valid and Invalid State Vectors**: The distinction between valid and invalid state vectors was crucial in understanding the requirements for a proper quantum state. Invalid state vectors, such as \\( z \\) and \\( b \\), illustrated the need for normalization and underscored the potential pitfalls in defining quantum states.\n",
        "\n",
        "6. **Quantum Mechanics Principles**: Throughout our exploration, we touched upon key principles of quantum mechanics, including superposition, measurement, and the role of probability in determining measurement outcomes. These principles form the foundation of quantum theory and have profound implications for quantum computing and information processing.\n",
        "\n",
        "\n",
        "---\n"
      ],
      "metadata": {
        "id": "3I9pfn9LLyAN"
      }
    },
    {
      "cell_type": "code",
      "source": [
        "!pip install qiskit"
      ],
      "metadata": {
        "colab": {
          "base_uri": "https://localhost:8080/"
        },
        "id": "DXUi4d2GGTYc",
        "outputId": "cbc0826d-a037-4b50-9263-71ed74b48c0c"
      },
      "execution_count": 26,
      "outputs": [
        {
          "output_type": "stream",
          "name": "stdout",
          "text": [
            "Requirement already satisfied: qiskit in /usr/local/lib/python3.10/dist-packages (1.3.0)\n",
            "Requirement already satisfied: rustworkx>=0.15.0 in /usr/local/lib/python3.10/dist-packages (from qiskit) (0.15.1)\n",
            "Requirement already satisfied: numpy<3,>=1.17 in /usr/local/lib/python3.10/dist-packages (from qiskit) (1.26.4)\n",
            "Requirement already satisfied: scipy>=1.5 in /usr/local/lib/python3.10/dist-packages (from qiskit) (1.13.1)\n",
            "Requirement already satisfied: sympy>=1.3 in /usr/local/lib/python3.10/dist-packages (from qiskit) (1.13.1)\n",
            "Requirement already satisfied: dill>=0.3 in /usr/local/lib/python3.10/dist-packages (from qiskit) (0.3.9)\n",
            "Requirement already satisfied: python-dateutil>=2.8.0 in /usr/local/lib/python3.10/dist-packages (from qiskit) (2.8.2)\n",
            "Requirement already satisfied: stevedore>=3.0.0 in /usr/local/lib/python3.10/dist-packages (from qiskit) (5.4.0)\n",
            "Requirement already satisfied: typing-extensions in /usr/local/lib/python3.10/dist-packages (from qiskit) (4.12.2)\n",
            "Requirement already satisfied: symengine<0.14,>=0.11 in /usr/local/lib/python3.10/dist-packages (from qiskit) (0.13.0)\n",
            "Requirement already satisfied: six>=1.5 in /usr/local/lib/python3.10/dist-packages (from python-dateutil>=2.8.0->qiskit) (1.16.0)\n",
            "Requirement already satisfied: pbr>=2.0.0 in /usr/local/lib/python3.10/dist-packages (from stevedore>=3.0.0->qiskit) (6.1.0)\n",
            "Requirement already satisfied: mpmath<1.4,>=1.1.0 in /usr/local/lib/python3.10/dist-packages (from sympy>=1.3->qiskit) (1.3.0)\n"
          ]
        }
      ]
    },
    {
      "cell_type": "code",
      "source": [
        "!pip install qiskit-aer -q"
      ],
      "metadata": {
        "id": "K4LUqzG5GbSr"
      },
      "execution_count": 27,
      "outputs": []
    },
    {
      "cell_type": "code",
      "source": [
        "from qiskit_aer import AerSimulator"
      ],
      "metadata": {
        "id": "GyWIH1zDGlsn"
      },
      "execution_count": 28,
      "outputs": []
    },
    {
      "cell_type": "code",
      "source": [
        "!pip install qiskit-aer\n",
        "from qiskit import QuantumCircuit\n",
        "from qiskit_aer import AerSimulator\n",
        "from qiskit_aer.primitives import Sampler"
      ],
      "metadata": {
        "colab": {
          "base_uri": "https://localhost:8080/"
        },
        "id": "5lZcyFbjGpjF",
        "outputId": "cac5eba5-5029-4a42-b983-c2b348c496d6"
      },
      "execution_count": 29,
      "outputs": [
        {
          "output_type": "stream",
          "name": "stdout",
          "text": [
            "Requirement already satisfied: qiskit-aer in /usr/local/lib/python3.10/dist-packages (0.15.1)\n",
            "Requirement already satisfied: qiskit>=1.1.0 in /usr/local/lib/python3.10/dist-packages (from qiskit-aer) (1.3.0)\n",
            "Requirement already satisfied: numpy>=1.16.3 in /usr/local/lib/python3.10/dist-packages (from qiskit-aer) (1.26.4)\n",
            "Requirement already satisfied: scipy>=1.0 in /usr/local/lib/python3.10/dist-packages (from qiskit-aer) (1.13.1)\n",
            "Requirement already satisfied: psutil>=5 in /usr/local/lib/python3.10/dist-packages (from qiskit-aer) (5.9.5)\n",
            "Requirement already satisfied: rustworkx>=0.15.0 in /usr/local/lib/python3.10/dist-packages (from qiskit>=1.1.0->qiskit-aer) (0.15.1)\n",
            "Requirement already satisfied: sympy>=1.3 in /usr/local/lib/python3.10/dist-packages (from qiskit>=1.1.0->qiskit-aer) (1.13.1)\n",
            "Requirement already satisfied: dill>=0.3 in /usr/local/lib/python3.10/dist-packages (from qiskit>=1.1.0->qiskit-aer) (0.3.9)\n",
            "Requirement already satisfied: python-dateutil>=2.8.0 in /usr/local/lib/python3.10/dist-packages (from qiskit>=1.1.0->qiskit-aer) (2.8.2)\n",
            "Requirement already satisfied: stevedore>=3.0.0 in /usr/local/lib/python3.10/dist-packages (from qiskit>=1.1.0->qiskit-aer) (5.4.0)\n",
            "Requirement already satisfied: typing-extensions in /usr/local/lib/python3.10/dist-packages (from qiskit>=1.1.0->qiskit-aer) (4.12.2)\n",
            "Requirement already satisfied: symengine<0.14,>=0.11 in /usr/local/lib/python3.10/dist-packages (from qiskit>=1.1.0->qiskit-aer) (0.13.0)\n",
            "Requirement already satisfied: six>=1.5 in /usr/local/lib/python3.10/dist-packages (from python-dateutil>=2.8.0->qiskit>=1.1.0->qiskit-aer) (1.16.0)\n",
            "Requirement already satisfied: pbr>=2.0.0 in /usr/local/lib/python3.10/dist-packages (from stevedore>=3.0.0->qiskit>=1.1.0->qiskit-aer) (6.1.0)\n",
            "Requirement already satisfied: mpmath<1.4,>=1.1.0 in /usr/local/lib/python3.10/dist-packages (from sympy>=1.3->qiskit>=1.1.0->qiskit-aer) (1.3.0)\n"
          ]
        }
      ]
    },
    {
      "cell_type": "code",
      "source": [
        "import matplotlib.pyplot as plt\n",
        "import numpy as np\n",
        "from IPython.display import display\n",
        "from qiskit.quantum_info import Statevector\n",
        "from qiskit.visualization import plot_histogram\n",
        "from math import sqrt, pi"
      ],
      "metadata": {
        "id": "rfvA1SxVGrSH"
      },
      "execution_count": 30,
      "outputs": []
    },
    {
      "cell_type": "markdown",
      "source": [
        "#Coin flip Game\n",
        "Creating a quantum coin flipper that demonstrates the superposition of quantum states, allowing the coin to be in both heads and tails simultaneously."
      ],
      "metadata": {
        "id": "6MIja_KsInIr"
      }
    },
    {
      "cell_type": "code",
      "source": [
        "# Create a quantum circuit with one qubit\n",
        "circuit = QuantumCircuit(1, 1)\n",
        "\n",
        "# Apply a Hadamard gate to create superposition\n",
        "circuit.h(0)\n",
        "\n",
        "# Measure the qubit\n",
        "circuit.measure(0, 0)\n",
        "\n",
        "# Use Sampler to execute the circuit\n",
        "sampler = Sampler()\n",
        "job = sampler.run(circuit, shots=1)\n",
        "result = job.result()\n",
        "\n",
        "# Get the result counts\n",
        "counts = result.quasi_dists[0].binary_probabilities()\n",
        "\n",
        "# Print coin flip result (may print as probability distribution)\n",
        "print(\"Coin flip result:\", counts)\n",
        "\n",
        "# If you want just the outcome and not probability distribution:\n",
        "import numpy as np\n",
        "\n",
        "outcome = list(counts.keys())[np.argmax(list(counts.values()))]\n",
        "print(\"Coin flip outcome:\", outcome)"
      ],
      "metadata": {
        "colab": {
          "base_uri": "https://localhost:8080/"
        },
        "id": "X2pTtoLNGuLe",
        "outputId": "110904e5-f3dc-4428-e2de-1f3aa43d1dfe"
      },
      "execution_count": 31,
      "outputs": [
        {
          "output_type": "stream",
          "name": "stdout",
          "text": [
            "Coin flip result: {'1': 1.0}\n",
            "Coin flip outcome: 1\n"
          ]
        }
      ]
    },
    {
      "cell_type": "markdown",
      "source": [
        "#Entangled Game\n",
        "Creating a quantum entangled game where players manipulate qubits to match a target entangled state, offering a fun and interactive way to understand quantum entanglement."
      ],
      "metadata": {
        "id": "2U8G9qzHIuyU"
      }
    },
    {
      "cell_type": "code",
      "source": [
        "from qiskit import QuantumCircuit\n",
        "from qiskit_aer import AerSimulator\n",
        "\n",
        "# Create a quantum circuit with two qubits and two classical bits\n",
        "circuit = QuantumCircuit(2, 2)\n",
        "\n",
        "# Display the initial state of the circuit\n",
        "print(\"Quantum Circuit initialized. Your goal is to create the '11' state.\")\n",
        "print(\"Available moves: 'h' (Hadamard), 'x' (Pauli-X), 'cx' (Controlled-X), 'measure' (Measure qubits).\")\n",
        "\n",
        "# Function to handle player moves\n",
        "def player_move(circuit):\n",
        "    while True:\n",
        "        move = input(\"Enter your move (e.g., 'h 0', 'x 1', 'cx 0 1', or 'measure'): \").strip().lower()\n",
        "        try:\n",
        "            if move.startswith('h'):\n",
        "                _, qubit = move.split()\n",
        "                circuit.h(int(qubit))\n",
        "                print(f\"Applied Hadamard gate on qubit {qubit}.\")\n",
        "            elif move.startswith('x'):\n",
        "                _, qubit = move.split()\n",
        "                circuit.x(int(qubit))\n",
        "                print(f\"Applied Pauli-X gate on qubit {qubit}.\")\n",
        "            elif move.startswith('cx'):\n",
        "                _, control, target = move.split()\n",
        "                circuit.cx(int(control), int(target))\n",
        "                print(f\"Applied Controlled-X gate from qubit {control} to qubit {target}.\")\n",
        "            elif move.startswith('measure'):\n",
        "                circuit.measure([0, 1], [0, 1])\n",
        "                print(\"Measurement added. Completing the circuit.\")\n",
        "                break\n",
        "            else:\n",
        "                print(\"Invalid move. Please use 'h', 'x', 'cx', or 'measure'.\")\n",
        "        except Exception as e:\n",
        "            print(f\"Error processing move: {e}. Please try again.\")\n",
        "\n",
        "# Let the player input moves\n",
        "player_move(circuit)\n",
        "\n",
        "# Simulate the circuit\n",
        "simulator = AerSimulator()\n",
        "job = simulator.run(circuit, shots=1)\n",
        "result = job.result()\n",
        "outcome = list(result.get_counts(circuit).keys())[0]\n",
        "\n",
        "# Display the outcome\n",
        "print(\"\\nFinal Circuit:\")\n",
        "print(circuit)\n",
        "print(f\"\\nMeasurement Outcome: {outcome}\")\n",
        "\n",
        "if outcome == '11':\n",
        "    print(\"Congratulations! You won!\")\n",
        "else:\n",
        "    print(\"Oops! Better luck next time!\")\n"
      ],
      "metadata": {
        "colab": {
          "base_uri": "https://localhost:8080/"
        },
        "id": "ETTX9imbGz5c",
        "outputId": "7a7bc9e4-bfd1-43b6-baa0-1a2d4372ed19"
      },
      "execution_count": 32,
      "outputs": [
        {
          "output_type": "stream",
          "name": "stdout",
          "text": [
            "Quantum Circuit initialized. Your goal is to create the '11' state.\n",
            "Available moves: 'h' (Hadamard), 'x' (Pauli-X), 'cx' (Controlled-X), 'measure' (Measure qubits).\n",
            "Enter your move (e.g., 'h 0', 'x 1', 'cx 0 1', or 'measure'): h 0\n",
            "Applied Hadamard gate on qubit 0.\n",
            "Enter your move (e.g., 'h 0', 'x 1', 'cx 0 1', or 'measure'): x 1\n",
            "Applied Pauli-X gate on qubit 1.\n",
            "Enter your move (e.g., 'h 0', 'x 1', 'cx 0 1', or 'measure'): cx 0 1\n",
            "Applied Controlled-X gate from qubit 0 to qubit 1.\n",
            "Enter your move (e.g., 'h 0', 'x 1', 'cx 0 1', or 'measure'): measure\n",
            "Measurement added. Completing the circuit.\n",
            "\n",
            "Final Circuit:\n",
            "     ┌───┐     ┌─┐   \n",
            "q_0: ┤ H ├──■──┤M├───\n",
            "     ├───┤┌─┴─┐└╥┘┌─┐\n",
            "q_1: ┤ X ├┤ X ├─╫─┤M├\n",
            "     └───┘└───┘ ║ └╥┘\n",
            "c: 2/═══════════╩══╩═\n",
            "                0  1 \n",
            "\n",
            "Measurement Outcome: 01\n",
            "Oops! Better luck next time!\n"
          ]
        }
      ]
    },
    {
      "cell_type": "code",
      "source": [
        "# Circuit Visualization\n",
        "print(\"Quantum Circuit:\")\n",
        "print(circuit.draw(output=\"text\"))  # Use \"mpl\" for a Matplotlib figure\n"
      ],
      "metadata": {
        "colab": {
          "base_uri": "https://localhost:8080/"
        },
        "id": "ChLDzkidG3qW",
        "outputId": "8b5a8849-925e-43ef-aab7-045fbeaad2d6"
      },
      "execution_count": 33,
      "outputs": [
        {
          "output_type": "stream",
          "name": "stdout",
          "text": [
            "Quantum Circuit:\n",
            "     ┌───┐     ┌─┐   \n",
            "q_0: ┤ H ├──■──┤M├───\n",
            "     ├───┤┌─┴─┐└╥┘┌─┐\n",
            "q_1: ┤ X ├┤ X ├─╫─┤M├\n",
            "     └───┘└───┘ ║ └╥┘\n",
            "c: 2/═══════════╩══╩═\n",
            "                0  1 \n"
          ]
        }
      ]
    }
  ]
}